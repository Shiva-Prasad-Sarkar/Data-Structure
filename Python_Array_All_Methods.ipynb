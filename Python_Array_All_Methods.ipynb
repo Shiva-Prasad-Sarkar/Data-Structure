{
  "nbformat": 4,
  "nbformat_minor": 0,
  "metadata": {
    "colab": {
      "provenance": []
    },
    "kernelspec": {
      "name": "python3",
      "display_name": "Python 3"
    },
    "language_info": {
      "name": "python"
    }
  },
  "cells": [
    {
      "cell_type": "code",
      "execution_count": null,
      "metadata": {
        "id": "DplkKk2YxdL3",
        "colab": {
          "base_uri": "https://localhost:8080/"
        },
        "outputId": "03887aea-6b70-44f4-cacb-d64e86a580b3"
      },
      "outputs": [
        {
          "output_type": "stream",
          "name": "stdout",
          "text": [
            "[1 2 3 4 5]\n",
            "[1 2 3 4 5]\n"
          ]
        }
      ],
      "source": [
        "#building array\n",
        "#from list\n",
        "import numpy as np\n",
        "a = [1,2,3,4,5]\n",
        "'''\n",
        "The main difference is that array (by default) will make a copy of the object,\n",
        "or the original array and does not reflect any changes made to the original array.\n",
        "while asarray will not unless necessary and it would reflect all the changes made to the original array\n",
        "'''\n",
        "b = np.array(a)\n",
        "c = np.asarray(a)\n",
        "print(c)\n",
        "print(b)"
      ]
    },
    {
      "cell_type": "code",
      "source": [
        "a = np.linspace(0,100,10) #10 numbers in the range 0 to 100\n",
        "print(a)"
      ],
      "metadata": {
        "colab": {
          "base_uri": "https://localhost:8080/"
        },
        "id": "c4I5FVerU2Mg",
        "outputId": "dcfca0d4-3887-41d1-c005-19ed71190e99"
      },
      "execution_count": null,
      "outputs": [
        {
          "output_type": "stream",
          "name": "stdout",
          "text": [
            "[ 0.          1.11111111  2.22222222  3.33333333  4.44444444  5.55555556\n",
            "  6.66666667  7.77777778  8.88888889 10.        ]\n"
          ]
        }
      ]
    },
    {
      "cell_type": "code",
      "source": [
        "#declaring with size and type\n",
        "arr = np.zeros(shape = 4,dtype=str)#dtype = int/float/object/str\n",
        "print(arr)\n",
        "arr2 = np.array([0]*4)\n",
        "print(arr2)"
      ],
      "metadata": {
        "colab": {
          "base_uri": "https://localhost:8080/"
        },
        "id": "UD2KtwqzFZgO",
        "outputId": "b19faa19-ff10-442f-e9ef-673a73fa99b3"
      },
      "execution_count": null,
      "outputs": [
        {
          "output_type": "stream",
          "name": "stdout",
          "text": [
            "['' '' '' '']\n",
            "[0 0 0 0]\n"
          ]
        }
      ]
    },
    {
      "cell_type": "code",
      "source": [
        "#left shift(with shift number)\n",
        "a = [1,2,3,4,5,6]\n",
        "arr = np.array(a)\n",
        "for j in range(2):\n",
        "  for i in range(len(arr)-1):\n",
        "    arr[i]=arr[i+1]\n",
        "  arr[len(arr)-j-1]=0\n",
        "print(arr)"
      ],
      "metadata": {
        "id": "H7D47tKBF4bU",
        "colab": {
          "base_uri": "https://localhost:8080/"
        },
        "outputId": "55cdb2bb-9df7-4888-9ebc-f3aa21c69467"
      },
      "execution_count": null,
      "outputs": [
        {
          "output_type": "stream",
          "name": "stdout",
          "text": [
            "[3 4 5 6 0 0]\n"
          ]
        }
      ]
    },
    {
      "cell_type": "code",
      "source": [
        "#right shift(with shift number)\n",
        "a = [1,2,3,4,5,6]\n",
        "arr = np.array(a)\n",
        "for j in range(2):\n",
        "  k = arr[len(arr)-1-j]\n",
        "  for i in range(len(arr)-1,0,-1):\n",
        "    arr[i]=arr[i-1]\n",
        "  #arr[j]=0\n",
        "  arr[j] = k\n",
        "print(arr)"
      ],
      "metadata": {
        "colab": {
          "base_uri": "https://localhost:8080/"
        },
        "id": "sE67zpfxNGqU",
        "outputId": "f3284d44-aaf1-4dce-aa82-93aa7a8f306a"
      },
      "execution_count": null,
      "outputs": [
        {
          "output_type": "stream",
          "name": "stdout",
          "text": [
            "[6 4 1 2 3 4]\n"
          ]
        }
      ]
    },
    {
      "cell_type": "code",
      "source": [
        "#insert in any position of an array\n",
        "def insert(arr,n,v):\n",
        "  def shift(n,s,v):\n",
        "    for j in range(len(s)-1,n-1,-1):\n",
        "      s[j]=s[j-1]\n",
        "    s[n-1]=v\n",
        "    return s\n",
        "\n",
        "  if n>len(arr):\n",
        "    s = np.zeros(n,dtype = int)\n",
        "  else:\n",
        "    s = np.zeros(len(arr)+1,dtype = int)\n",
        "  for i in range(len(arr)):\n",
        "    s[i]=arr[i]\n",
        "  return shift(n,s,v)\n",
        "print(insert([1,2,3,4],7,5))\n",
        "print(insert([1,2,3,4],4,5))\n",
        "print(insert([1,2,3,4],2,5))"
      ],
      "metadata": {
        "colab": {
          "base_uri": "https://localhost:8080/"
        },
        "id": "Ep91FvvaXaZP",
        "outputId": "d5a5f3d6-7aa1-4bac-8b46-0d2b45344f83"
      },
      "execution_count": null,
      "outputs": [
        {
          "output_type": "stream",
          "name": "stdout",
          "text": [
            "[1 2 3 4 0 0 5]\n",
            "[1 2 3 5 4]\n",
            "[1 5 2 3 4]\n"
          ]
        }
      ]
    },
    {
      "cell_type": "code",
      "source": [
        "#rotate\n",
        "def rotate(arr,n):\n",
        "    for i in range(n):\n",
        "      cmk = arr[0]\n",
        "      for j in range(1,len(arr)):\n",
        "        arr[j-1]=arr[j]\n",
        "      arr[len(arr)-1]=cmk\n",
        "    print(arr)\n",
        "\n",
        "rotate([1,2,3,4,5],2)"
      ],
      "metadata": {
        "id": "uSQTUKDGgb4D"
      },
      "execution_count": null,
      "outputs": []
    },
    {
      "cell_type": "code",
      "source": [
        "#from string input to array\n",
        "import numpy as np\n",
        "arr = list(map(int,input().split()))\n",
        "arr = np.array(arr)\n",
        "print(arr)"
      ],
      "metadata": {
        "colab": {
          "base_uri": "https://localhost:8080/"
        },
        "id": "yB8yHEzHw-vV",
        "outputId": "40248a6b-59f8-46fd-be69-4293f91d1afa"
      },
      "execution_count": null,
      "outputs": [
        {
          "output_type": "stream",
          "name": "stdout",
          "text": [
            "1 2 3\n",
            "[1 2 3]\n"
          ]
        }
      ]
    },
    {
      "cell_type": "code",
      "source": [
        "#from string input to array\n",
        "import numpy as np\n",
        "a = '2 3 44 58 499'\n",
        "b = np.array([0] * 5)\n",
        "p = 0\n",
        "q = 0\n",
        "s = 0  # Initialize s to 0\n",
        "for i in range(len(a)):\n",
        "    if a[i] == ' ':\n",
        "        q = i\n",
        "        b[s] = int(a[p:q])\n",
        "        p = q + 1\n",
        "        s += 1\n",
        "    if i == len(a) - 1:\n",
        "        b[s] = int(a[p:len(a)])\n",
        "        s += 1\n",
        "print(b)"
      ],
      "metadata": {
        "colab": {
          "base_uri": "https://localhost:8080/"
        },
        "id": "r4qMnxMIYY7P",
        "outputId": "847ec659-f8a8-4b20-cdc5-86dbc0ba576b"
      },
      "execution_count": null,
      "outputs": [
        {
          "output_type": "stream",
          "name": "stdout",
          "text": [
            "[  2   3  44  58 499]\n"
          ]
        }
      ]
    },
    {
      "cell_type": "code",
      "source": [
        "#bubble sort\n",
        "import numpy as np\n",
        "arr = np.array([7,11,1,2,4,6,27,5,12,44,3])\n",
        "l = 0\n",
        "while l<len(arr):\n",
        "  for i in range(1,len(arr)):\n",
        "    if arr[i-1]>arr[i]:\n",
        "      arr[i-1],arr[i] = arr[i],arr[i-1]\n",
        "  l+=1\n",
        "print(arr)"
      ],
      "metadata": {
        "colab": {
          "base_uri": "https://localhost:8080/"
        },
        "id": "Pph3NGvoCmPR",
        "outputId": "7c21e5ce-3281-4b76-c76b-f8d341b306cb"
      },
      "execution_count": null,
      "outputs": [
        {
          "output_type": "stream",
          "name": "stdout",
          "text": [
            "[ 1  2  3  4  5  6  7 11 12 27 44]\n"
          ]
        }
      ]
    },
    {
      "cell_type": "code",
      "source": [
        "#selection sort\n",
        "import numpy as np\n",
        "arr = np.array([7,11,1,2,4,6,27,5,12,44,3])\n",
        "l = 0\n",
        "d = 0\n",
        "while l<len(arr):\n",
        "  min = l\n",
        "  for i in range(l,len(arr)):\n",
        "    if arr[i]<arr[min]:\n",
        "      min = i\n",
        "  arr[l],arr[min]=arr[min],arr[l]\n",
        "  l+=1\n",
        "print(arr)"
      ],
      "metadata": {
        "colab": {
          "base_uri": "https://localhost:8080/"
        },
        "id": "xDjdks8iEnPC",
        "outputId": "94e23768-df26-4590-ab55-f3a494504e94"
      },
      "execution_count": null,
      "outputs": [
        {
          "output_type": "stream",
          "name": "stdout",
          "text": [
            "[ 1  2  3  4  5  6  7 11 12 27 44]\n"
          ]
        }
      ]
    },
    {
      "cell_type": "code",
      "source": [
        "#binary search\n",
        "import numpy as np\n",
        "def binary(arr,num):\n",
        "  low = 0\n",
        "  high =  len(arr)-1\n",
        "  while low<=high:\n",
        "    range = (high-low)\n",
        "    val = range//2\n",
        "    if arr[val]==num:\n",
        "      return arr[val]\n",
        "    elif arr[val]>num:\n",
        "      low = val\n",
        "    else:\n",
        "      high = val\n",
        "  return -1\n",
        "arr = np.array([1,2,3,4,9,24,56,78])\n",
        "print(binary(arr,3))"
      ],
      "metadata": {
        "id": "TLW1-yYmWb1B",
        "colab": {
          "base_uri": "https://localhost:8080/"
        },
        "outputId": "1361d47b-7c72-4aa1-dfff-dce9a46530d6"
      },
      "execution_count": null,
      "outputs": [
        {
          "output_type": "stream",
          "name": "stdout",
          "text": [
            "3\n"
          ]
        }
      ]
    },
    {
      "cell_type": "code",
      "source": [
        "def insertionSort(arr):\n",
        "    n = len(arr)  # Get the length of the array\n",
        "    if n <= 1:\n",
        "        return  # If the array has 0 or 1 element, it's already sorted\n",
        "\n",
        "    for i in range(1, n):\n",
        "        key = arr[i]  # Store the current element as the key to be inserted\n",
        "        j = i - 1\n",
        "        while j >= 0 and key < arr[j]:\n",
        "            arr[j + 1] = arr[j]  # Shift elements greater than key one position ahead\n",
        "            j -= 1\n",
        "        arr[j + 1] = key  # Insert the key in the correct position\n",
        "\n",
        "# Example usage:\n",
        "arr = [12, 11, 13, 5, 6]\n",
        "insertionSort(arr)\n",
        "print(\"Sorted array:\", arr)\n"
      ],
      "metadata": {
        "colab": {
          "base_uri": "https://localhost:8080/"
        },
        "id": "0bMqcdbx6VYd",
        "outputId": "70fbc028-12b0-47d8-a380-350c911d8f4a"
      },
      "execution_count": null,
      "outputs": [
        {
          "output_type": "stream",
          "name": "stdout",
          "text": [
            "Sorted array: [5, 6, 11, 12, 13]\n"
          ]
        }
      ]
    },
    {
      "cell_type": "code",
      "source": [
        "#creating array by taking input one by one\n",
        "import numpy as np\n",
        "d = np.zeros(1,dtype = int)\n",
        "p = 0\n",
        "def shp(val, arr, p):\n",
        "     size = len(arr)\n",
        "     if size==1 and p==0:\n",
        "         arr[0]=val\n",
        "         return arr\n",
        "     else:\n",
        "         new = np.zeros(size+1,dtype=int)\n",
        "         for i in range(len(arr)):\n",
        "             new[i]=arr[i]\n",
        "         new[size]=val\n",
        "         return new\n",
        "while True:\n",
        "    a = input('Do you want to add more values? if yes give input 1 otherwise input 0 ')\n",
        "    if a=='1':\n",
        "        a = int(input('enter the value you wanna add: '))\n",
        "        d = shp(a,d,p)\n",
        "        p+=1\n",
        "        print('new array is: ')\n",
        "        print(d)\n",
        "    else:\n",
        "        print('thanks for your cooperation')\n",
        "        print('final array is: ')\n",
        "        print(d)\n",
        "        break"
      ],
      "metadata": {
        "id": "H09P0ydpkhOA"
      },
      "execution_count": null,
      "outputs": []
    },
    {
      "cell_type": "code",
      "source": [
        "#matrix\n",
        "import numpy as np\n",
        "arr = np.array([[1,2,3],[4,5,6]])\n",
        "print(arr)\n",
        "a,b = arr.shape #returns a tuple of row size and coloum size\n",
        "print(a)\n",
        "print(b)\n",
        "print(len(arr))\n",
        "#printing the value of matrix{row wise operation}\n",
        "for i in range(a):\n",
        "    for j in range(b):\n",
        "        print(arr[i][j],end=' ')\n",
        "print()\n",
        "#printing the values of matrix{coloum wise operation}\n",
        "for i in range(b):\n",
        "    for j in range(a):\n",
        "        print(arr[j][i],end = ' ')"
      ],
      "metadata": {
        "id": "YZYAL3-ekl1P"
      },
      "execution_count": null,
      "outputs": []
    },
    {
      "cell_type": "code",
      "source": [
        "#matrix addition\n",
        "import numpy\n",
        "a = numpy.array([[1,2,3],[4,5,6],[7,8,9]])\n",
        "b = numpy.array([[1,2,3],[4,5,6],[7,8,9]])\n",
        "print(a)\n",
        "print(b)\n",
        "c = numpy.zeros((3,3),dtype=int)\n",
        "d,k = a.shape\n",
        "for i in range(d):\n",
        "    for j in range(k):\n",
        "        c[i][j]=a[i][j]+b[i][j]\n",
        "print(c)"
      ],
      "metadata": {
        "id": "P3IoCTo0kpEb"
      },
      "execution_count": null,
      "outputs": []
    },
    {
      "cell_type": "code",
      "source": [
        "#transpose matrix\n",
        "import numpy\n",
        "a = numpy.array([[1,2,3],[3,4,5],[6,7,8]])\n",
        "b,c = a.shape\n",
        "d = numpy.zeros((c,b),dtype=int)\n",
        "for i in range(c):\n",
        "    for j in range(b):\n",
        "        d[i][j]=a[j][i]\n",
        "print(d)"
      ],
      "metadata": {
        "id": "9I2-lj4xkySx"
      },
      "execution_count": null,
      "outputs": []
    },
    {
      "cell_type": "code",
      "source": [
        "#matrix multiplication\n",
        "a = numpy.array([[1,2,3],[4,5,6],[7,8,9]])\n",
        "b = numpy.array([[1,2],[4,5],[7,8]])\n",
        "ra,ca = a.shape\n",
        "rb,cb = b.shape\n",
        "#cij = ai1b1j + ai2b2j + ⋯ + aikbkj\n",
        "if ca == rb :\n",
        "    l = ca\n",
        "    new = numpy.zeros((ra,cb),dtype=int)\n",
        "    for i in range(ra):\n",
        "        for j in range(cb):\n",
        "            sum = 0\n",
        "            for k in range(l):\n",
        "                sum+=(a[i][k]*b[k][j])\n",
        "            new[i][j]=sum\n",
        "    print(new)\n",
        "else:\n",
        "    print('the matrix is not multicapable')"
      ],
      "metadata": {
        "id": "XiLYj_Qzk1Ef"
      },
      "execution_count": null,
      "outputs": []
    },
    {
      "cell_type": "code",
      "source": [
        "#matrix multiplication(built in)\n",
        "import numpy as np\n",
        "a = np.array([[1,2,3],[4,5,6],[7,8,9]])\n",
        "b = np.array([[1,2],[4,5],[7,8]])\n",
        "result = np.dot(a, b)\n",
        "print(result)"
      ],
      "metadata": {
        "id": "K5-yKX1lk3on"
      },
      "execution_count": null,
      "outputs": []
    },
    {
      "cell_type": "code",
      "source": [
        "#matrix value\n",
        "\n",
        "import numpy as np\n",
        "\n",
        "a = np.array([[2,3],[4,5]])\n",
        "\n",
        "det = np.linalg.det(a)\n",
        "\n",
        "print(\"The determinant of the matrix is:\", round(det))"
      ],
      "metadata": {
        "id": "MB79WC6Sk6VN"
      },
      "execution_count": null,
      "outputs": []
    },
    {
      "cell_type": "code",
      "source": [
        "#trace of matrix\n",
        "import numpy as np\n",
        "a = np.array([[1,2,3],[4,5,6],[7,8,9]])\n",
        "sum = 0\n",
        "ra,ca = a.shape\n",
        "for i in range(ra):\n",
        "    for j in range(ca):\n",
        "        if i==j:\n",
        "            sum+=a[i][j]\n",
        "print(sum)"
      ],
      "metadata": {
        "id": "p0p8xjnUk80q"
      },
      "execution_count": null,
      "outputs": []
    },
    {
      "cell_type": "code",
      "source": [
        "#trace of matrix[11+22+33]\n",
        "import numpy as np\n",
        "a = np.array([[1,2,3],[4,5,6],[7,8,9]])\n",
        "sum = 0\n",
        "ra,ca = a.shape\n",
        "for i in range(ra):\n",
        "    sum+=a[i][i]\n",
        "print(sum)"
      ],
      "metadata": {
        "id": "ejyfbCsSlAet"
      },
      "execution_count": null,
      "outputs": []
    },
    {
      "cell_type": "code",
      "source": [
        "#trace of matrix(from opposite order[13+22+31])\n",
        "import numpy as np\n",
        "a = np.array([[1,2,3],[4,5,6],[7,8,9]])\n",
        "sum = 0\n",
        "ra,ca = a.shape\n",
        "for i in range(ca):\n",
        "    sum+=a[i][ca-1-i]\n",
        "print(sum)"
      ],
      "metadata": {
        "id": "R-OpyvuJlDAY"
      },
      "execution_count": null,
      "outputs": []
    },
    {
      "cell_type": "code",
      "source": [
        "#trace of matrix(from opposite order[13+22+31])\n",
        "import numpy as np\n",
        "a = np.array([[1,2,3],[4,5,6],[7,8,9]])\n",
        "sum = 0\n",
        "ra,ca = a.shape\n",
        "b = ca-1\n",
        "for i in range(ca):\n",
        "    sum+=a[i][b]\n",
        "    b-=1\n",
        "print(sum)"
      ],
      "metadata": {
        "id": "DHuAX8HRlFYD"
      },
      "execution_count": null,
      "outputs": []
    },
    {
      "cell_type": "code",
      "source": [
        "#count with numpy.unique\n",
        "import numpy\n",
        "a = numpy.array([0, 3, 0, 1, 0, 1, 2, 1, 0, 0, 0, 0, 1, 3, 4])\n",
        "unique, counts = numpy.unique(a, return_counts=True)\n",
        "print(unique,counts)"
      ],
      "metadata": {
        "colab": {
          "base_uri": "https://localhost:8080/"
        },
        "id": "c6iO7Vq9sXHn",
        "outputId": "baed100b-0f5f-4b65-a01b-c209b2088d25"
      },
      "execution_count": null,
      "outputs": [
        {
          "output_type": "stream",
          "name": "stdout",
          "text": [
            "[0 1 2 3 4] [7 4 1 2 1]\n"
          ]
        }
      ]
    },
    {
      "cell_type": "code",
      "source": [
        "a = [1,2,3,9]\n",
        "b = [4,5,6,7]\n",
        "d = dict(zip(a, b))\n",
        "print(d)"
      ],
      "metadata": {
        "colab": {
          "base_uri": "https://localhost:8080/"
        },
        "id": "0l8ICJpksndm",
        "outputId": "42d5f33e-bc74-4f82-d46d-ab2553956b52"
      },
      "execution_count": null,
      "outputs": [
        {
          "output_type": "stream",
          "name": "stdout",
          "text": [
            "{1: 4, 2: 5, 3: 6, 9: 7}\n"
          ]
        }
      ]
    }
  ]
}