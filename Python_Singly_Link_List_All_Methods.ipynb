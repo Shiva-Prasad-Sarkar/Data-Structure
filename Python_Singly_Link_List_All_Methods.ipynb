{
  "cells": [
    {
      "cell_type": "markdown",
      "id": "834d7aba-7019-4b48-8e0f-a4ead46d79aa",
      "metadata": {
        "id": "834d7aba-7019-4b48-8e0f-a4ead46d79aa"
      },
      "source": [
        "|||||||||||||||||||||||||||||||||||||||||||||||||||||||||||||||||||<< NON DUMMY HEADED SINGLY LINEAR LINK LIST >>|||||||||||||||||||||||||||||||||||||||||||||||||||||||||||||||||||||"
      ]
    },
    {
      "cell_type": "code",
      "execution_count": null,
      "id": "bd30abad-b57a-4da3-847a-93292fcdca65",
      "metadata": {
        "id": "bd30abad-b57a-4da3-847a-93292fcdca65"
      },
      "outputs": [],
      "source": [
        "class Node:\n",
        "    def __init__(self,elem=None,next=None):\n",
        "        self.elem = elem\n",
        "        self.next = next"
      ]
    },
    {
      "cell_type": "code",
      "execution_count": null,
      "id": "5c9964e9-b911-40eb-bc84-ffd529c189eb",
      "metadata": {
        "id": "5c9964e9-b911-40eb-bc84-ffd529c189eb"
      },
      "outputs": [],
      "source": [
        "#from array to link list\n",
        "def createlinklist(arr):\n",
        "    head = Node(arr[0])\n",
        "    temp = head\n",
        "    for i in range(1,len(arr)):\n",
        "        new = Node(arr[i])\n",
        "        head.next = new\n",
        "        head = new\n",
        "    return temp\n",
        "\n",
        "#from array to link list but in reverse order to avoid the creation of extra varibale\n",
        "def createll(arr):\n",
        "    temph = Node(arr[len(arr)-1])\n",
        "    for i in range(len(arr)-2,-1,-1):\n",
        "        new = Node(arr[i])\n",
        "        new.next = temph\n",
        "        temph = new\n",
        "    return temph"
      ]
    },
    {
      "cell_type": "code",
      "execution_count": null,
      "id": "0beee5a0-1479-4316-b8ce-1dd98e38b08c",
      "metadata": {
        "id": "0beee5a0-1479-4316-b8ce-1dd98e38b08c"
      },
      "outputs": [],
      "source": [
        "#linklist visualisation\n",
        "def printll(head):\n",
        "    var = head\n",
        "    while var!=None:\n",
        "        if var.next!=None:\n",
        "            print('[',var.elem,'|',id(var.next),']',end = ' --> ')\n",
        "        else:\n",
        "            print('[',var.elem,'|','None',']')\n",
        "        var = var.next"
      ]
    },
    {
      "cell_type": "code",
      "execution_count": null,
      "id": "b35882b5-8581-462b-be20-4366e3d2dafb",
      "metadata": {
        "id": "b35882b5-8581-462b-be20-4366e3d2dafb"
      },
      "outputs": [],
      "source": [
        "#reverselinklist\n",
        "#inplace\n",
        "def reversein(head):\n",
        "    var = head\n",
        "    locat = None\n",
        "    while var!=None:\n",
        "        temp  = var.next\n",
        "        var.next = locat\n",
        "        locat = var\n",
        "        var = temp\n",
        "    return locat\n",
        "\n",
        "#reverselinklist\n",
        "#outplace\n",
        "def reverseout(head):\n",
        "    temp = head\n",
        "    Rnew = Node(head.elem,None)\n",
        "    while temp.next!=None:\n",
        "        New = Node(temp.next.elem)\n",
        "        New.next = Rnew\n",
        "        Rnew = New\n",
        "        temp = temp.next\n",
        "    return Rnew"
      ]
    },
    {
      "cell_type": "code",
      "execution_count": null,
      "id": "f11a5c51-a9f0-4727-a163-251fe24d5319",
      "metadata": {
        "id": "f11a5c51-a9f0-4727-a163-251fe24d5319"
      },
      "outputs": [],
      "source": [
        "#copylink list\n",
        "def copy(var):\n",
        "    new = Node(var.elem)\n",
        "    re = new\n",
        "\n",
        "    while var.next!=None:\n",
        "        tempn = Node(var.next.elem)\n",
        "        new.next = tempn\n",
        "        new = tempn\n",
        "        var = var.next\n",
        "    return re"
      ]
    },
    {
      "cell_type": "code",
      "execution_count": null,
      "id": "c7616ce2-fee7-4495-bc6c-539cd2656c37",
      "metadata": {
        "id": "c7616ce2-fee7-4495-bc6c-539cd2656c37"
      },
      "outputs": [],
      "source": [
        "#count specific element\n",
        "def counter(head,ele):\n",
        "    temp = head\n",
        "    c = 0\n",
        "    while temp!=None:\n",
        "        if temp.elem == ele:\n",
        "            c+=1\n",
        "        temp = temp.next\n",
        "    return c\n",
        "\n",
        "#count total elements\n",
        "def tcount(head):\n",
        "    c = 0\n",
        "    while head!=None:\n",
        "        c+=1\n",
        "        head = head.next\n",
        "    return c"
      ]
    },
    {
      "cell_type": "code",
      "execution_count": null,
      "id": "8a10041d-9773-4cfa-bf06-39421f31cde0",
      "metadata": {
        "id": "8a10041d-9773-4cfa-bf06-39421f31cde0"
      },
      "outputs": [],
      "source": [
        "#getnode\n",
        "def getnode(head,ind):\n",
        "    c = 0\n",
        "    while head!=None:\n",
        "        if c==ind:\n",
        "            return head\n",
        "        c+=1\n",
        "        head = head.next\n",
        "    return -1\n",
        "\n",
        "#getelement\n",
        "def getelement(head,ind):\n",
        "    c = 0\n",
        "    while head!=None:\n",
        "        if c==ind:\n",
        "            return head.elem\n",
        "        c+=1\n",
        "        head = head.next\n",
        "    return -1\n",
        "\n",
        "#getindex\n",
        "def getindex(head,ele):\n",
        "    c = 0\n",
        "    while head!=None:\n",
        "        if head.elem==ele:\n",
        "            return c\n",
        "        c+=1\n",
        "        head = head.next\n",
        "    return -1"
      ]
    },
    {
      "cell_type": "code",
      "execution_count": null,
      "id": "c875a16a-9f94-4b63-8dcd-c83c320fe17c",
      "metadata": {
        "id": "c875a16a-9f94-4b63-8dcd-c83c320fe17c"
      },
      "outputs": [],
      "source": [
        "#rightshift\n",
        "def rightshift(head):\n",
        "    temp = head\n",
        "    snode = Node(0,temp)\n",
        "    while head!=None:\n",
        "        if head.next!=None:\n",
        "            var = head\n",
        "        head = head.next\n",
        "    var.next = None\n",
        "    return snode\n",
        "\n",
        "#rotateright\n",
        "def rotateright(head):\n",
        "    temp = head\n",
        "    while head!=None:\n",
        "        if head.next!=None:\n",
        "            var = head\n",
        "        head = head.next\n",
        "    var.next.next = temp\n",
        "    nhead = var.next\n",
        "    var.next = None\n",
        "    return nhead\n",
        "\n",
        "#leftshift\n",
        "def leftshift(head):\n",
        "    temp = head.next\n",
        "    while head.next!=None:\n",
        "        head = head.next\n",
        "    Nnode = Node(0,None)\n",
        "    head.next = Nnode\n",
        "    return temp\n",
        "\n",
        "#rotateleft\n",
        "def rotateleft(head):\n",
        "    temp = head\n",
        "    newhead = temp.next\n",
        "    while head.next!=None:\n",
        "        head = head.next\n",
        "    head.next = temp\n",
        "    temp.next = None\n",
        "    return newhead"
      ]
    },
    {
      "cell_type": "code",
      "execution_count": null,
      "id": "2e918844-10b3-4479-9637-870e0f68393f",
      "metadata": {
        "id": "2e918844-10b3-4479-9637-870e0f68393f"
      },
      "outputs": [],
      "source": [
        "#insert\n",
        "def insert(head,index,val):\n",
        "\n",
        "    if index>tcount(head):\n",
        "        print('Invalid index')\n",
        "        return head\n",
        "\n",
        "    elif index==0:\n",
        "        new = Node(val,head)\n",
        "        return new\n",
        "    else:\n",
        "        temp = head\n",
        "        var = getnode(head,index-1)\n",
        "        varr = var.next\n",
        "        new = Node(val,varr)\n",
        "        var.next = new\n",
        "        return temp\n",
        "\n",
        "#remove value of specific index\n",
        "def removein(head,index):\n",
        "\n",
        "    if index>=tcount(head):\n",
        "        print('Invalid index')\n",
        "        return head\n",
        "    else:\n",
        "        if index == 0:\n",
        "            return head.next\n",
        "        else:\n",
        "            temp = head\n",
        "            var = getnode(head,index-1)\n",
        "            varr = var.next.next\n",
        "            var.next = varr\n",
        "            return temp\n",
        "\n",
        "#remove element(s)\n",
        "def remove(head,val):\n",
        "    temp = head\n",
        "    while head!=None:\n",
        "        if head.elem==val:\n",
        "            a = getindex(temp,val)\n",
        "            if a==0:\n",
        "                temp = head.next\n",
        "            else:\n",
        "                var = getnode(temp,a-1)\n",
        "                varr = var.next\n",
        "                var.next = varr.next\n",
        "        head = head.next\n",
        "    return temp\n",
        "\n"
      ]
    },
    {
      "cell_type": "code",
      "execution_count": null,
      "id": "48753de4-84c0-4b35-a756-d5508710fea6",
      "metadata": {
        "id": "48753de4-84c0-4b35-a756-d5508710fea6",
        "outputId": "b0d71659-79f0-4a67-e1cf-8e561ee0e2d5"
      },
      "outputs": [
        {
          "name": "stdout",
          "output_type": "stream",
          "text": [
            "[ 5 | 1275286037264 ] --> [ 1 | 1275286035728 ] --> [ 5 | 1275286029072 ] --> [ 2 | 1275286035920 ] --> [ 5 | None ]\n",
            "Invalid index\n",
            "[ 5 | 1275285047504 ] --> [ 1 | 1275286033680 ] --> [ 5 | 1275286034128 ] --> [ 2 | 1275286036496 ] --> [ 5 | None ]\n",
            "[ 1 | 1275286034128 ] --> [ 2 | None ]\n"
          ]
        }
      ],
      "source": [
        "head = createlinklist([5,1,5,2,5])\n",
        "printll(copy(head))\n",
        "printll(insert(head,6,6))\n",
        "printll(remove(head,5))"
      ]
    },
    {
      "cell_type": "code",
      "execution_count": null,
      "id": "b997f5ea-c9bc-405a-a9ac-f9e87c59b6fc",
      "metadata": {
        "id": "b997f5ea-c9bc-405a-a9ac-f9e87c59b6fc"
      },
      "outputs": [],
      "source": []
    },
    {
      "cell_type": "markdown",
      "id": "6a066bfd-4338-4ab0-9636-d0a52424ff95",
      "metadata": {
        "id": "6a066bfd-4338-4ab0-9636-d0a52424ff95"
      },
      "source": [
        "|||||||||||||||||||||||||||||||||||||||||||||||||||||||||||||||||||<< DUMMY HEADED SINGLY LINEAR LINK LIST >>|||||||||||||||||||||||||||||||||||||||||||||||||||||||||||||||||||||"
      ]
    },
    {
      "cell_type": "code",
      "execution_count": null,
      "id": "5dbd44bc-92e3-4231-8e25-f9a734e1b2ea",
      "metadata": {
        "id": "5dbd44bc-92e3-4231-8e25-f9a734e1b2ea"
      },
      "outputs": [],
      "source": [
        "class Node:\n",
        "    def __init__(self,elem=None,next=None):\n",
        "        self.elem = elem\n",
        "        self.next = next"
      ]
    },
    {
      "cell_type": "code",
      "execution_count": null,
      "id": "12c18eab-1efd-4e33-b68a-9dd12da25da2",
      "metadata": {
        "id": "12c18eab-1efd-4e33-b68a-9dd12da25da2"
      },
      "outputs": [],
      "source": [
        "#from array to dummy headed link list\n",
        "def createdummyheadedlinklist(arr):\n",
        "    head = Node()\n",
        "    temp = head\n",
        "    for i in range(len(arr)):\n",
        "        new = Node(arr[i])\n",
        "        head.next = new\n",
        "        head = new\n",
        "    return temp\n",
        "\n",
        "#from array to link list but in reverse order to avoid the creation of extra varibale\n",
        "def createdhll(arr):\n",
        "    temph = Node(arr[len(arr)-1])\n",
        "    for i in range(len(arr)-2,-1,-1):\n",
        "        new = Node(arr[i])\n",
        "        new.next = temph\n",
        "        temph = new\n",
        "    dnode = Node()\n",
        "    dnode.next = temph\n",
        "    return dnode"
      ]
    },
    {
      "cell_type": "code",
      "execution_count": null,
      "id": "1eb7d909-d94b-4948-baf4-c3bff56bd694",
      "metadata": {
        "id": "1eb7d909-d94b-4948-baf4-c3bff56bd694"
      },
      "outputs": [],
      "source": [
        "#copylink list\n",
        "def copydhll(var):\n",
        "    new = Node(var.elem)\n",
        "    re = new\n",
        "\n",
        "    while var.next!=None:\n",
        "        tempn = Node(var.next.elem)\n",
        "        new.next = tempn\n",
        "        new = tempn\n",
        "        var = var.next\n",
        "    return re"
      ]
    },
    {
      "cell_type": "code",
      "execution_count": null,
      "id": "bbf22616-f45c-415d-91fd-7effd67c3c83",
      "metadata": {
        "id": "bbf22616-f45c-415d-91fd-7effd67c3c83"
      },
      "outputs": [],
      "source": [
        "#linklist visualisation\n",
        "def printdhll(head):\n",
        "    var = head\n",
        "    while var!=None:\n",
        "        if var.next!=None:\n",
        "            print('[',var.elem,'|',id(var.next),']',end = ' --> ')\n",
        "        else:\n",
        "            print('[',var.elem,'|','None',']')\n",
        "        var = var.next"
      ]
    },
    {
      "cell_type": "code",
      "execution_count": null,
      "id": "a049c18d-41ba-4cf6-9f5f-239dfc73a752",
      "metadata": {
        "id": "a049c18d-41ba-4cf6-9f5f-239dfc73a752"
      },
      "outputs": [],
      "source": [
        "#reversedummyheadedlinklist\n",
        "#inplace\n",
        "def dhreversein(head):\n",
        "    tem = head\n",
        "    var = head.next\n",
        "    locat = None\n",
        "    while var!=None:\n",
        "        temp  = var.next\n",
        "        var.next = locat\n",
        "        locat = var\n",
        "        var = temp\n",
        "    tem.next = locat\n",
        "    return tem\n",
        "\n",
        "#reverselinklist\n",
        "#outplace\n",
        "def dhreverseout(head):\n",
        "    temp = head.next\n",
        "    var = Node()\n",
        "    Rnew = Node(temp.elem,None)\n",
        "    while temp.next!=None:\n",
        "        New = Node(temp.next.elem)\n",
        "        New.next = Rnew\n",
        "        Rnew = New\n",
        "        temp = temp.next\n",
        "    var.next = Rnew\n",
        "    return var"
      ]
    },
    {
      "cell_type": "code",
      "execution_count": null,
      "id": "91bebf2b-27bc-4414-b26e-ec723ebbba4a",
      "metadata": {
        "id": "91bebf2b-27bc-4414-b26e-ec723ebbba4a"
      },
      "outputs": [],
      "source": [
        "#count specific element\n",
        "def dhcounter(head,ele):\n",
        "    temp = head.next\n",
        "    c = 0\n",
        "    while temp!=None:\n",
        "        if temp.elem == ele:\n",
        "            c+=1\n",
        "        temp = temp.next\n",
        "    return c\n",
        "\n",
        "#count total elements\n",
        "def dhtcount(head):\n",
        "    head = head.next\n",
        "    c = 0\n",
        "    while head!=None:\n",
        "        c+=1\n",
        "        head = head.next\n",
        "    return c"
      ]
    },
    {
      "cell_type": "code",
      "execution_count": null,
      "id": "d18d6860-485f-42bc-8414-f040c8b0e39d",
      "metadata": {
        "id": "d18d6860-485f-42bc-8414-f040c8b0e39d"
      },
      "outputs": [],
      "source": [
        "#getnode\n",
        "def dhgetnode(head,ind):\n",
        "    head = head.next\n",
        "    c = 0\n",
        "    while head!=None:\n",
        "        if c==ind:\n",
        "            return head\n",
        "        c+=1\n",
        "        head = head.next\n",
        "    return -1\n",
        "\n",
        "#getelement\n",
        "def dhgetelement(head,ind):\n",
        "    head = head.next\n",
        "    c = 0\n",
        "    while head!=None:\n",
        "        if c==ind:\n",
        "            return head.elem\n",
        "        c+=1\n",
        "        head = head.next\n",
        "    return -1\n",
        "\n",
        "#getindex\n",
        "def dhgetindex(head,ele):\n",
        "    head = head.next\n",
        "    c = 0\n",
        "    while head!=None:\n",
        "        if head.elem==ele:\n",
        "            return c\n",
        "        c+=1\n",
        "        head = head.next\n",
        "    return -1"
      ]
    },
    {
      "cell_type": "code",
      "execution_count": null,
      "id": "57cf27b5-7f86-4295-959b-1ccb1514386e",
      "metadata": {
        "id": "57cf27b5-7f86-4295-959b-1ccb1514386e"
      },
      "outputs": [],
      "source": [
        "#rightshift\n",
        "def dhrightshift(head):\n",
        "    org = head\n",
        "    temp = head.next\n",
        "    snode = Node(0,temp)\n",
        "\n",
        "    while head!=None:\n",
        "        if head.next!=None:\n",
        "            var = head\n",
        "        head = head.next\n",
        "    var.next = None\n",
        "    org.next = snode\n",
        "    return org\n",
        "\n",
        "#rotateright\n",
        "def dhrotateright(head):\n",
        "    org = head\n",
        "    temp = head.next\n",
        "    while head!=None:\n",
        "        if head.next!=None:\n",
        "            var = head\n",
        "        head = head.next\n",
        "    var.next.next = temp\n",
        "    nhead = var.next\n",
        "    var.next = None\n",
        "    org.next = nhead\n",
        "    return org\n",
        "\n",
        "#leftshift\n",
        "def dhleftshift(head):\n",
        "    org = head\n",
        "    temp = head.next.next\n",
        "    while head.next!=None:\n",
        "        head = head.next\n",
        "    Nnode = Node(0,None)\n",
        "    head.next = Nnode\n",
        "    org.next = temp\n",
        "    return org\n",
        "\n",
        "#rotateleft\n",
        "def dhrotateleft(head):\n",
        "    org = head\n",
        "    temp = head.next\n",
        "    newhead = temp.next\n",
        "    while head.next!=None:\n",
        "        head = head.next\n",
        "    head.next = temp\n",
        "    temp.next = None\n",
        "    org.next = newhead\n",
        "    return org"
      ]
    },
    {
      "cell_type": "code",
      "execution_count": null,
      "id": "c0700b50-2060-4845-aab1-3190400a182a",
      "metadata": {
        "id": "c0700b50-2060-4845-aab1-3190400a182a"
      },
      "outputs": [],
      "source": [
        "#insert\n",
        "def dhinsert(head,index,val):\n",
        "\n",
        "    if index>dhtcount(head):\n",
        "        print('Invalid index')\n",
        "        return head\n",
        "    else:\n",
        "        if index==0:\n",
        "            temp = head\n",
        "            var = head.next\n",
        "            new = Node(val,var)\n",
        "            temp.next = new\n",
        "        else:\n",
        "            temp = head\n",
        "            var = dhgetnode(head,index-1)\n",
        "            varr = var.next\n",
        "            new = Node(val,varr)\n",
        "            var.next = new\n",
        "        return temp\n",
        "\n",
        "#remove value of specific index\n",
        "def dhremovein(head,index):\n",
        "\n",
        "    if index>=dhtcount(head):\n",
        "        print('Invalid index')\n",
        "        return head\n",
        "    else:\n",
        "        if index==0:\n",
        "            head.next=head.next.next\n",
        "            return head\n",
        "        else:\n",
        "            temp = head\n",
        "            var = dhgetnode(head,index-1)\n",
        "            varr = var.next.next\n",
        "            var.next = varr\n",
        "            return temp\n",
        "\n",
        "#remove element(s)\n",
        "def dhremove(head,val):\n",
        "    temp = head\n",
        "    while head!=None:\n",
        "        if head.elem==val:\n",
        "            a = getindex(temp,val)\n",
        "            if a==0:\n",
        "                temp = head.next\n",
        "            else:\n",
        "                var = getnode(temp,a-1)\n",
        "                varr = var.next\n",
        "                var.next = varr.next\n",
        "        head = head.next\n",
        "    return temp\n",
        "\n"
      ]
    },
    {
      "cell_type": "code",
      "execution_count": null,
      "id": "d9a2baa3-760f-4e79-9895-cc7b416241c2",
      "metadata": {
        "id": "d9a2baa3-760f-4e79-9895-cc7b416241c2",
        "outputId": "e78a458f-7ed5-4c82-ff4b-5d6839dd302f"
      },
      "outputs": [
        {
          "name": "stdout",
          "output_type": "stream",
          "text": [
            "[ None | 1275286112592 ] --> [ 99 | 1275286114192 ] --> [ 8 | 1275286120656 ] --> [ 1 | 1275286110800 ] --> [ 8 | 1275286117008 ] --> [ 2 | 1275286115152 ] --> [ 3 | 1275286118224 ] --> [ 4 | 1275286117456 ] --> [ 5 | 1275286116752 ] --> [ 6 | 1275285981840 ] --> [ 7 | 1275285987472 ] --> [ 8 | None ]\n"
          ]
        }
      ],
      "source": [
        "a = [8,1,8,2,3,4,5,6,7,8]\n",
        "h = createdhll(a)\n",
        "printdhll(dhinsert(h,0,99))"
      ]
    },
    {
      "cell_type": "markdown",
      "id": "50946043-2fb6-4d38-af6e-93968ffb2f16",
      "metadata": {
        "id": "50946043-2fb6-4d38-af6e-93968ffb2f16"
      },
      "source": [
        "|||||||||||||||||||||||||||||||||||||||||||||||||||||||||||||||||||<< NON DUMMY HEADED SINGLY CIRCULAR LINK LIST >>|||||||||||||||||||||||||||||||||||||||||||||||||||||||||||||||||||||"
      ]
    },
    {
      "cell_type": "code",
      "execution_count": null,
      "id": "e4de6631-4ccf-42eb-ba72-9188b3d56be6",
      "metadata": {
        "id": "e4de6631-4ccf-42eb-ba72-9188b3d56be6"
      },
      "outputs": [],
      "source": [
        "class Node:\n",
        "    def __init__(self,elem=None,next=None):\n",
        "        self.elem = elem\n",
        "        self.next = next"
      ]
    },
    {
      "cell_type": "code",
      "execution_count": null,
      "id": "ab17243a-0cd1-4e7d-8815-2eb79694146a",
      "metadata": {
        "id": "ab17243a-0cd1-4e7d-8815-2eb79694146a"
      },
      "outputs": [],
      "source": [
        "#from array to link list\n",
        "def createclinklist(arr):\n",
        "    head = Node(arr[0])\n",
        "    temp = head\n",
        "    for i in range(1,len(arr)):\n",
        "        new = Node(arr[i])\n",
        "        head.next = new\n",
        "        head = new\n",
        "    head.next = temp\n",
        "    return temp\n",
        "\n",
        "#from array to link list but in reverse order to avoid the creation of extra varibale\n",
        "def createcll(arr):\n",
        "    temph = Node(arr[len(arr)-1])\n",
        "    var = temph\n",
        "    for i in range(len(arr)-2,-1,-1):\n",
        "        new = Node(arr[i])\n",
        "        new.next = temph\n",
        "        temph = new\n",
        "    var.next = temph\n",
        "    return temph"
      ]
    },
    {
      "cell_type": "code",
      "execution_count": null,
      "id": "cebf8076-54d9-4728-8f89-92f6d6f5540e",
      "metadata": {
        "id": "cebf8076-54d9-4728-8f89-92f6d6f5540e"
      },
      "outputs": [],
      "source": [
        "#circular linklist visualisation\n",
        "def printcll(head):\n",
        "    print('[',head.elem,'|',id(head.next),']',end = ' --> ')\n",
        "    var = head.next\n",
        "    while var!=head:\n",
        "        if var.next!=head:\n",
        "            print('[',var.elem,'|',id(var.next),']',end = ' --> ')\n",
        "        else:\n",
        "            print('[',var.elem,'|',id(head),']','–—↰')\n",
        "        var = var.next"
      ]
    },
    {
      "cell_type": "code",
      "execution_count": null,
      "id": "438ef5e5-e96d-4176-810b-4c42424130ae",
      "metadata": {
        "id": "438ef5e5-e96d-4176-810b-4c42424130ae"
      },
      "outputs": [],
      "source": [
        "#reverselinklist\n",
        "#inplace\n",
        "def reversecllcin(head):\n",
        "    var = head.next\n",
        "    t = head\n",
        "    while var!=head:\n",
        "        temp = var.next\n",
        "        var.next = t\n",
        "        t = var\n",
        "        var = temp\n",
        "    head.next = t\n",
        "    return t\n",
        "\n",
        "#reverselinklist\n",
        "#outplace\n",
        "def reversecllout(head):\n",
        "    temp = head.next\n",
        "    Rnew = Node(head.elem,None)\n",
        "    V = Rnew\n",
        "    while temp!=head:\n",
        "        New = Node(temp.elem)\n",
        "        New.next = Rnew\n",
        "        Rnew = New\n",
        "        temp = temp.next\n",
        "    V.next = Rnew\n",
        "    return Rnew"
      ]
    },
    {
      "cell_type": "code",
      "execution_count": null,
      "id": "76b844a0-1b07-4edb-8f15-7150ecdc42b5",
      "metadata": {
        "id": "76b844a0-1b07-4edb-8f15-7150ecdc42b5"
      },
      "outputs": [],
      "source": [
        "#copy circular link list\n",
        "def copycll(var):\n",
        "    new = Node(var.elem)\n",
        "    re = new\n",
        "    temp = var\n",
        "    var = var.next\n",
        "    while var!=temp:\n",
        "        tempn = Node(var.elem)\n",
        "        new.next = tempn\n",
        "        new = tempn\n",
        "        var = var.next\n",
        "    new.next = re\n",
        "    return re"
      ]
    },
    {
      "cell_type": "code",
      "execution_count": null,
      "id": "0d15f507-1d8b-4c11-ad93-f0245fce9e21",
      "metadata": {
        "id": "0d15f507-1d8b-4c11-ad93-f0245fce9e21"
      },
      "outputs": [],
      "source": [
        "#count specific element\n",
        "def countercll(head,ele):\n",
        "    temp = head.next\n",
        "    c = 0\n",
        "    if head.elem==ele:\n",
        "        c+=1\n",
        "    while temp!=head:\n",
        "        if temp.elem == ele:\n",
        "            c+=1\n",
        "        temp = temp.next\n",
        "    return c\n",
        "\n",
        "#count total elements\n",
        "def tcountcll(head):\n",
        "    c = 1\n",
        "    temp = head.next\n",
        "    while temp!=head:\n",
        "        c+=1\n",
        "        temp = temp.next\n",
        "    return c"
      ]
    },
    {
      "cell_type": "code",
      "execution_count": null,
      "id": "5fcb921d-74a2-4fa7-a661-7f2fffbabf0a",
      "metadata": {
        "id": "5fcb921d-74a2-4fa7-a661-7f2fffbabf0a"
      },
      "outputs": [],
      "source": [
        "#getnode\n",
        "def getnodecll(head,ind):\n",
        "    temp = head\n",
        "    head = head.next\n",
        "    if ind==0:\n",
        "        return temp\n",
        "    c = 1\n",
        "    while head!=temp:\n",
        "        if c==ind:\n",
        "            return head\n",
        "        c+=1\n",
        "        head = head.next\n",
        "    return -1\n",
        "\n",
        "#getelement\n",
        "def getelementcll(head,ind):\n",
        "    temp = head\n",
        "    head = head.next\n",
        "    if ind==0:\n",
        "        return temp.elem\n",
        "    c = 1\n",
        "    while head!=temp:\n",
        "        if c==ind:\n",
        "            return head.elem\n",
        "        c+=1\n",
        "        head = head.next\n",
        "    return -1\n",
        "\n",
        "#getindex\n",
        "def getindexcll(head,ele):\n",
        "    temp = head\n",
        "    if head.elem==ele:\n",
        "        return 0\n",
        "    c = 1\n",
        "    head = head.next\n",
        "    while head!=temp:\n",
        "        if head.elem==ele:\n",
        "            return c\n",
        "        c+=1\n",
        "        head = head.next\n",
        "    return -1"
      ]
    },
    {
      "cell_type": "code",
      "execution_count": null,
      "id": "1abf2644-f087-469e-9bcf-eb17ae56ff9c",
      "metadata": {
        "id": "1abf2644-f087-469e-9bcf-eb17ae56ff9c"
      },
      "outputs": [],
      "source": [
        "#there is no shifting in circular object\n",
        "\n",
        "#rotateright\n",
        "def rotaterightcll(head):\n",
        "    return head.next\n",
        "\n",
        "#rotateleft\n",
        "def rotateleftcll(head):\n",
        "    temp = head\n",
        "    head = head.next\n",
        "    while head.next!=temp:\n",
        "        head = head.next\n",
        "    return head"
      ]
    },
    {
      "cell_type": "code",
      "execution_count": null,
      "id": "200d5b28-5923-4a06-9ae1-d72f9c7f958f",
      "metadata": {
        "id": "200d5b28-5923-4a06-9ae1-d72f9c7f958f"
      },
      "outputs": [],
      "source": [
        "#insert\n",
        "def insertcll(head,index,val):\n",
        "\n",
        "    if index>tcountcll(head):\n",
        "        print('Invalid index')\n",
        "        return head\n",
        "\n",
        "    elif index==0:\n",
        "        new = Node(val,head)\n",
        "        var = head.next\n",
        "        while var.next!=head:\n",
        "            var = var.next\n",
        "        var.next = new\n",
        "        return new\n",
        "    else:\n",
        "        temp = head\n",
        "        var = getnodecll(head,index-1)\n",
        "        varr = var.next\n",
        "        new = Node(val,varr)\n",
        "        var.next = new\n",
        "        return temp\n",
        "\n",
        "#remove value of specific index\n",
        "def delcll(head,index):\n",
        "\n",
        "    if index>=tcountcll(head):\n",
        "        print('Invalid index')\n",
        "        return head\n",
        "    else:\n",
        "        if index == 0:\n",
        "            p =  head.next\n",
        "            var = head.next\n",
        "            while var.next!=head:\n",
        "                var = var.next\n",
        "            var.next = p\n",
        "            return p\n",
        "        else:\n",
        "            temp = head\n",
        "            var = getnodecll(head,index-1)\n",
        "            varr = var.next.next\n",
        "            var.next = varr\n",
        "            return temp\n",
        "\n",
        "#remove element(s)\n",
        "def removecll(head,val):\n",
        "\n",
        "    while head.elem==val:\n",
        "        if head.elem==val:\n",
        "            head = delcll(head,0)\n",
        "\n",
        "    newhead = head\n",
        "    temp = newhead.next\n",
        "    while temp!=newhead:\n",
        "        if temp.elem==val:\n",
        "            ind = getindexcll(newhead,temp.elem)\n",
        "            var = getnodecll(newhead,ind-1)\n",
        "            varr = var.next\n",
        "            var.next = varr.next\n",
        "        temp = temp.next\n",
        "    return newhead\n"
      ]
    },
    {
      "cell_type": "code",
      "execution_count": null,
      "id": "0b2264c7-c66c-4fc9-923c-33af57d3022f",
      "metadata": {
        "id": "0b2264c7-c66c-4fc9-923c-33af57d3022f"
      },
      "outputs": [],
      "source": []
    },
    {
      "cell_type": "code",
      "execution_count": null,
      "id": "a6213519-014e-442c-af0c-fd0b19f75991",
      "metadata": {
        "id": "a6213519-014e-442c-af0c-fd0b19f75991"
      },
      "outputs": [],
      "source": []
    }
  ],
  "metadata": {
    "kernelspec": {
      "display_name": "Python 3 (ipykernel)",
      "language": "python",
      "name": "python3"
    },
    "language_info": {
      "codemirror_mode": {
        "name": "ipython",
        "version": 3
      },
      "file_extension": ".py",
      "mimetype": "text/x-python",
      "name": "python",
      "nbconvert_exporter": "python",
      "pygments_lexer": "ipython3",
      "version": "3.11.7"
    },
    "colab": {
      "provenance": []
    }
  },
  "nbformat": 4,
  "nbformat_minor": 5
}