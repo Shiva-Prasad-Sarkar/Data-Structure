{
 "cells": [
  {
   "cell_type": "markdown",
   "id": "87fa9c12-c7c0-4a23-8689-a331dc942081",
   "metadata": {},
   "source": [
    "-----------------------------------------------STACK------------------------------------------------"
   ]
  },
  {
   "cell_type": "code",
   "execution_count": 10,
   "id": "5cc2caaf-4bfd-4a13-830c-512e86312202",
   "metadata": {},
   "outputs": [
    {
     "name": "stdout",
     "output_type": "stream",
     "text": [
      "True\n",
      "| 0 |\n",
      "| 0 |\n",
      "| 0 |\n",
      "| 5 |\n",
      "| 9 |\n",
      "-----\n",
      "| 0 |\n",
      "| 0 |\n",
      "| 7 |\n",
      "| 5 |\n",
      "| 9 |\n",
      "-----\n"
     ]
    }
   ],
   "source": [
    "#ARRAY BASED STACK\n",
    "#stack using numpy array\n",
    "import numpy as np\n",
    "class stack:\n",
    "    def __init__(self,s):\n",
    "        self.stacka = np.zeros(s,dtype = int)\n",
    "        self.temp = 0\n",
    "        self.size = s\n",
    "    def push(self,val):\n",
    "        if self.temp==self.size:\n",
    "            print('Stack overflow')\n",
    "        else:\n",
    "            self.stacka[self.temp] = val\n",
    "            self.temp+=1\n",
    "    def pop(self):\n",
    "        if self.temp == 0:\n",
    "            print('stack underflow')\n",
    "        else:\n",
    "            value = self.stacka[self.temp-1]\n",
    "            self.stacka[self.temp-1]=0\n",
    "            self.temp-=1\n",
    "            return value\n",
    "    def peek(self):\n",
    "        if self.temp == 0:\n",
    "            print('stack underflow')\n",
    "        else:\n",
    "            value = self.stacka[self.temp-1]\n",
    "            return value\n",
    "    def isempty(self):\n",
    "        return self.temp == 0\n",
    "        \n",
    "    def printstack(self):\n",
    "        for i in range(len(self.stacka)-1,-1,-1):\n",
    "            print(f'| {self.stacka[i]} |')\n",
    "        print('-----')\n",
    "    \n",
    "a = stack(5)\n",
    "print(a.isempty())\n",
    "a.push(9)\n",
    "a.push(5)\n",
    "a.printstack()\n",
    "a.push(7)\n",
    "a.printstack()"
   ]
  },
  {
   "cell_type": "code",
   "execution_count": 21,
   "id": "232983ff-dd99-4f09-9c9e-cdd1544d873c",
   "metadata": {},
   "outputs": [],
   "source": [
    "#link list based stack\n",
    "class Node:\n",
    "  def __init__(self,elem=None,next=None):\n",
    "    self.elem = elem\n",
    "    self.next = next\n",
    "\n",
    "class Stack:\n",
    "  def __init__(self):\n",
    "    self.__top = None\n",
    "\n",
    "  def push(self,elem):\n",
    "    nn = Node(elem,self.__top)\n",
    "    self.__top = nn\n",
    "\n",
    "  def pop(self):\n",
    "    if self.__top == None:\n",
    "      print('Stack Underflow')\n",
    "      return None\n",
    "    e = self.__top\n",
    "    self.__top = self.__top.next\n",
    "    return e.elem\n",
    "\n",
    "  def peek(self):\n",
    "    if self.__top == None:\n",
    "      print('Stack Underflow')\n",
    "      return None\n",
    "    return self.__top.elem\n",
    "\n",
    "  def isEmpty(self):\n",
    "    return self.__top == None\n",
    "      "
   ]
  },
  {
   "cell_type": "code",
   "execution_count": 22,
   "id": "732b9983-a5a3-48de-9e8c-1bce451ec505",
   "metadata": {},
   "outputs": [],
   "source": [
    "#print stack\n",
    "def print_stack(st):\n",
    "  if st.isEmpty():\n",
    "    print(\"------\")\n",
    "    return\n",
    "  p = st.pop()\n",
    "  print('|',p,end=' ')\n",
    "  if p<10:\n",
    "    print(' |')\n",
    "  else:\n",
    "    print('|')\n",
    "  print_stack(st)\n",
    "  st.push(p)\n",
    "    "
   ]
  },
  {
   "cell_type": "code",
   "execution_count": 30,
   "id": "2c2f67c6-30b7-4910-b7e5-dc413007ea46",
   "metadata": {},
   "outputs": [],
   "source": [
    "#reverse link list based stack\n",
    "def reverse(a):\n",
    "    emp = Stack()\n",
    "    while a.peek()!=None:\n",
    "        v = a.pop()\n",
    "        emp.push(v)\n",
    "    return emp\n",
    "    "
   ]
  },
  {
   "cell_type": "code",
   "execution_count": 31,
   "id": "6a069ac7-5977-42c8-a284-3f3f7c7d47ae",
   "metadata": {},
   "outputs": [
    {
     "name": "stdout",
     "output_type": "stream",
     "text": [
      "True\n",
      "| 5  |\n",
      "| 9  |\n",
      "------\n",
      "| 7  |\n",
      "| 5  |\n",
      "| 9  |\n",
      "------\n",
      "Stack Underflow\n",
      "| 9  |\n",
      "| 5  |\n",
      "| 7  |\n",
      "------\n"
     ]
    }
   ],
   "source": [
    "a = Stack()\n",
    "print(a.isEmpty())\n",
    "a.push(9)\n",
    "a.push(5)\n",
    "print_stack(a)\n",
    "a.push(7)\n",
    "print_stack(a)\n",
    "print_stack(reverse(a))"
   ]
  }
 ],
 "metadata": {
  "kernelspec": {
   "display_name": "Python 3 (ipykernel)",
   "language": "python",
   "name": "python3"
  },
  "language_info": {
   "codemirror_mode": {
    "name": "ipython",
    "version": 3
   },
   "file_extension": ".py",
   "mimetype": "text/x-python",
   "name": "python",
   "nbconvert_exporter": "python",
   "pygments_lexer": "ipython3",
   "version": "3.11.7"
  }
 },
 "nbformat": 4,
 "nbformat_minor": 5
}
